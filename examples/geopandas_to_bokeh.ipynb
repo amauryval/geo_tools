{
 "cells": [
  {
   "cell_type": "markdown",
   "metadata": {},
   "source": [
    "# Geopandas to bokeh\n",
    "\n",
    "From ShapelyAddons Class :\n",
    "==> geometry_2_bokeh_format"
   ]
  },
  {
   "cell_type": "code",
   "execution_count": null,
   "metadata": {},
   "outputs": [
    {
     "data": {
      "text/html": [
       "\n",
       "    <div class=\"bk-root\">\n",
       "        <a href=\"https://bokeh.pydata.org\" target=\"_blank\" class=\"bk-logo bk-logo-small bk-logo-notebook\"></a>\n",
       "        <span id=\"1035\">Loading BokehJS ...</span>\n",
       "    </div>"
      ]
     },
     "metadata": {},
     "output_type": "execute_result"
    },
    {
     "data": {},
     "metadata": {},
     "output_type": "display_data"
    }
   ],
   "source": [
    "import os\n",
    "import sys\n",
    "sys.path.append(os.path.dirname(os.getcwd()))\n",
    "\n",
    "import geopandas as gpd\n",
    "from shapely.geometry import MultiPolygon\n",
    "\n",
    "from bokeh.plotting import output_notebook\n",
    "from bokeh.plotting import show\n",
    "\n",
    "from main_funcs import ExamplesCore\n",
    "from main_funcs import BokehCore\n",
    "\n",
    "output_notebook()\n",
    "\n",
    "\n",
    "geotools = ExamplesCore()\n",
    "\n",
    "multipolygon = gpd.GeoDataFrame.from_file(\"multipolyg.geojson\")\n",
    "multipolygon['xs'] = multipolygon['geometry'].apply(lambda x: geotools.geometry_2_bokeh_format(x, 'x'))\n",
    "multipolygon['ys'] = multipolygon['geometry'].apply(lambda x: geotools.geometry_2_bokeh_format(x, 'y'))\n",
    "\n",
    "polygon = gpd.GeoDataFrame.from_file(\"polyg.geojson\")\n",
    "polygon['xs'] = polygon['geometry'].apply(lambda x: geotools.geometry_2_bokeh_format(x, 'x'))\n",
    "polygon['ys'] = polygon['geometry'].apply(lambda x: geotools.geometry_2_bokeh_format(x, 'y'))\n",
    "\n",
    "point = gpd.GeoDataFrame.from_file(\"point.geojson\")\n",
    "point['xs'] = point['geometry'].apply(lambda x: geotools.geometry_2_bokeh_format(x, 'x'))\n",
    "point['ys'] = point['geometry'].apply(lambda x: geotools.geometry_2_bokeh_format(x, 'y'))\n",
    "\n",
    "multipoint = gpd.GeoDataFrame.from_file(\"multipoint.geojson\")\n",
    "multipoint['xs'] = multipoint['geometry'].apply(lambda x: geotools.geometry_2_bokeh_format(x, 'x'))\n",
    "multipoint['ys'] = multipoint['geometry'].apply(lambda x: geotools.geometry_2_bokeh_format(x, 'y'))\n",
    "\n",
    "linestring = gpd.GeoDataFrame.from_file(\"linestring.geojson\")\n",
    "linestring['xs'] = linestring['geometry'].apply(lambda x: geotools.geometry_2_bokeh_format(x, 'x'))\n",
    "linestring['ys'] = linestring['geometry'].apply(lambda x: geotools.geometry_2_bokeh_format(x, 'y'))\n",
    "\n",
    "multiline = gpd.GeoDataFrame.from_file(\"multiline.geojson\")\n",
    "multiline['xs'] = multiline['geometry'].apply(lambda x: geotools.geometry_2_bokeh_format(x, 'x'))\n",
    "multiline['ys'] = multiline['geometry'].apply(lambda x: geotools.geometry_2_bokeh_format(x, 'y'))\n",
    "\n"
   ]
  },
  {
   "cell_type": "code",
   "execution_count": 2,
   "metadata": {},
   "outputs": [
    {
     "data": {
      "text/html": [
       "\n",
       "\n",
       "\n",
       "\n",
       "\n",
       "\n",
       "  <div class=\"bk-root\" id=\"c7e84f80-d55b-42c8-b3bb-f9e3d70be529\" data-root-id=\"1001\"></div>\n"
      ]
     },
     "metadata": {},
     "output_type": "execute_result"
    },
    {
     "data": {},
     "metadata": {
      "application/vnd.bokehjs_exec.v0+json": {
       "id": "1001"
      }
     },
     "output_type": "display_data"
    }
   ],
   "source": [
    "\n",
    "figure = BokehCore()\n",
    "figure._plot.plot_width = 800\n",
    "figure._plot.plot_height = 600\n",
    "\n",
    "figure._plot.multi_polygons(\n",
    "    xs=polygon[\"xs\"],\n",
    "    ys=polygon[\"ys\"],\n",
    "    color = \"red\",\n",
    "    legend = list(set(list(polygon.geom_type)))[0]\n",
    ")\n",
    "\n",
    "figure._plot.multi_polygons(\n",
    "    xs=multipolygon[\"xs\"],\n",
    "    ys=multipolygon[\"ys\"],\n",
    "    color = \"orange\",\n",
    "    legend = list(set(list(multipolygon.geom_type)))[0]\n",
    ")\n",
    "\n",
    "figure._plot.multi_line(\n",
    "    xs=linestring[\"xs\"],\n",
    "    ys=linestring[\"ys\"],\n",
    "    color = \"blue\",\n",
    "    legend = list(set(list(linestring.geom_type)))[0]\n",
    ")\n",
    "\n",
    "figure._plot.multi_line(\n",
    "    xs=multiline[\"xs\"],\n",
    "    ys=multiline[\"ys\"],\n",
    "    color = \"green\",\n",
    "    legend = list(set(list(multiline.geom_type)))[0]\n",
    ")\n",
    "\n",
    "figure._plot.circle(\n",
    "    x=multipoint[\"xs\"],\n",
    "    y=multipoint[\"ys\"],\n",
    "    color = \"green\",\n",
    "    legend = list(set(list(multipoint.geom_type)))[0]\n",
    ")\n",
    "\n",
    "figure._plot.circle(\n",
    "    x=point[\"xs\"],\n",
    "    y=point[\"ys\"],\n",
    "    color = \"brown\",\n",
    "    legend = list(set(list(point.geom_type)))[0]\n",
    ")\n",
    "\n",
    "figure._plot.legend.click_policy=\"hide\"\n",
    "\n",
    "show(figure._plot)\n"
   ]
  }
 ],
 "metadata": {
  "kernelspec": {
   "display_name": "Python 3",
   "language": "python",
   "name": "python3"
  },
  "language_info": {
   "codemirror_mode": {
    "name": "ipython",
    "version": 3
   },
   "file_extension": ".py",
   "mimetype": "text/x-python",
   "name": "python",
   "nbconvert_exporter": "python",
   "pygments_lexer": "ipython3",
   "version": "3.6.6"
  },
  "widgets": {
   "application/vnd.jupyter.widget-state+json": {
    "state": {},
    "version_major": 2.0,
    "version_minor": 0.0
   }
  }
 },
 "nbformat": 4,
 "nbformat_minor": 2
}
